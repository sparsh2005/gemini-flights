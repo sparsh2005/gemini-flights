{
 "cells": [
  {
   "cell_type": "code",
   "execution_count": 1,
   "metadata": {},
   "outputs": [],
   "source": [
    "import vertexai\n",
    "import streamlit as st\n",
    "from vertexai.preview import generative_models\n",
    "from vertexai.preview.generative_models import GenerativeModel, Tool, Part, Content, ChatSession"
   ]
  },
  {
   "cell_type": "code",
   "execution_count": null,
   "metadata": {},
   "outputs": [],
   "source": [
    "project = \"gemini-explorer-422106\"\n",
    "vertexai.init(project = project)"
   ]
  },
  {
   "cell_type": "code",
   "execution_count": null,
   "metadata": {},
   "outputs": [],
   "source": [
    "# Declare Tools\n",
    "get_search_flights = generative_models.FunctionDeclaration(\n",
    "    # define a method and tell the model the functionality of this method\n",
    "    name=\"get_search_flights\",\n",
    "    description=\"Tool for searching a flight with origin, destination, and departure date\", # optional but essential: make the model knows what it is used for\n",
    "    parameters={\n",
    "        \"type\": \"object\",\n",
    "        \"properties\": {\n",
    "            # we have three properties in total\n",
    "            \"origin\": {\n",
    "                \"type\": \"string\",\n",
    "                \"description\": \"The airport of departure for the flight given in airport code such as LAX, SFO, BOS, etc.\"\n",
    "            },\n",
    "            \"destination\": {\n",
    "                \"type\": \"string\",\n",
    "                \"description\": \"The airport of destination for the flight given in airport code such as LAX, SFO, BOS, etc.\"\n",
    "            },\n",
    "            \"departure_date\": {\n",
    "                \"type\": \"string\",\n",
    "                \"format\": \"date\",\n",
    "                \"description\": \"The date of departure for the flight in YYYY-MM-DD format\"   # \"description\" used for formatting\n",
    "            },\n",
    "        },\n",
    "\n",
    "        # define required parameters\n",
    "        \"required\": [\n",
    "            \"origin\",\n",
    "            \"destination\",\n",
    "            \"departure_date\"\n",
    "        ]\n",
    "    },\n",
    ")\n",
    "get_book_flights = generative_models.FunctionDeclaration(\n",
    "    name=\"get_book_flights\",\n",
    "    description=\"Tool for booking a flight with flight_id, seat_type and number of seats, which is optional.\",\n",
    "    parameters={\n",
    "        \"type\": \"object\",\n",
    "        \"properties\": {\n",
    "            \"flight_id\": {\n",
    "                \"type\": \"int\",\n",
    "                \"description\": \"A unique integer representing the flight such as 23, 100, 5, etc., entered by the user.\"\n",
    "            },\n",
    "            \"seat_type\": {\n",
    "                \"type\": \"str\",\n",
    "                \"description\": \"There're three possible inputs for this category: economy, business, first-class.\"\n",
    "            },\n",
    "        },\n",
    "        \"required\": [\n",
    "            \"flight_id\",\n",
    "            \"seat_type\"\n",
    "        ]\n",
    "    },\n",
    ")\n",
    "# instantiate the tool and model with tools\n",
    "search_tool = generative_models.Tool(\n",
    "    function_declarations=[get_search_flights, get_book_flights], # bind that function to a search tool\n",
    ")"
   ]
  },
  {
   "cell_type": "code",
   "execution_count": null,
   "metadata": {},
   "outputs": [],
   "source": [
    "config = generative_models.GenerationConfig(temperature=0.4)\n",
    "# Load model with config\n",
    "model = GenerativeModel(\n",
    "    \"gemini-pro\",\n",
    "    tools = [search_tool],\n",
    "    generation_config = config\n",
    ")"
   ]
  }
 ],
 "metadata": {
  "kernelspec": {
   "display_name": "env",
   "language": "python",
   "name": "python3"
  },
  "language_info": {
   "codemirror_mode": {
    "name": "ipython",
    "version": 3
   },
   "file_extension": ".py",
   "mimetype": "text/x-python",
   "name": "python",
   "nbconvert_exporter": "python",
   "pygments_lexer": "ipython3",
   "version": "3.10.7"
  }
 },
 "nbformat": 4,
 "nbformat_minor": 2
}
